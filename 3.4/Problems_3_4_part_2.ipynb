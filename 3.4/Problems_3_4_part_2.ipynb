{
 "cells": [
  {
   "cell_type": "code",
   "execution_count": 2,
   "metadata": {},
   "outputs": [],
   "source": [
    "import numpy as np\n",
    "import matplotlib.pyplot as plt\n",
    "from IPython.display import clear_output"
   ]
  },
  {
   "cell_type": "markdown",
   "metadata": {
    "id": "MeXTSdSfKdL2"
   },
   "source": [
    "## Задача 6. Стохастическая матрица и собственное значение равное 1.\n"
   ]
  },
  {
   "cell_type": "markdown",
   "metadata": {
    "id": "R8q9iOjT37XK"
   },
   "source": [
    "\n",
    "Утверждение. \n",
    "Пусть дана матрица $А$, в которой элементы неотрицательны и сумма в каждой строке равна $1 .$ Тогда 1 максимальное собственное значение такой матрицы.\n",
    "\n",
    "Доказательство.\n",
    "- Возьмём вектор $ \\mathrm{v} $ из всех 1 и вычислим $ Av$.\n",
    "- В силу равенства 1 суммы элементов в каждой строке $ Av$ также будет вектором из всех $1 .$\n",
    "- Значит вектор $v$ собственный вектор для собственного значения 1\n",
    "- Теперь воспользуемся теоремой Гершгорина: все собственные значения лежат в объединении кругов с центром в точках \\$а_\\{ii\\}\\$ и радиусом \\$1 - а_\\{ii\\}\\$\n",
    "- Значит ни один из шаров не имеет точек расположенных дальше 1 и -1\n",
    "- А значит и все собственные значения по модулю меньше 1"
   ]
  },
  {
   "cell_type": "markdown",
   "metadata": {
    "id": "kFZFy6DDC2Y_"
   },
   "source": [
    "Сгенерируйте случайным образом много таких матриц и для каждой проверьте утверждение. Нарисуйте круги Гершгорина и собственные значения, воспользовавшись программой из документа семинара."
   ]
  },
  {
   "cell_type": "code",
   "execution_count": 5,
   "metadata": {},
   "outputs": [
    {
     "data": {
      "image/png": "[encoded data removed]",
      "text/plain": [
       "<Figure size 432x288 with 1 Axes>"
      ]
     },
     "metadata": {
      "needs_background": "light"
     },
     "output_type": "display_data"
    }
   ],
   "source": [
    "matrices = np.abs(np.random.default_rng().normal(size=(100, 17, 17)))\n",
    "norm = np.sum(matrices, axis=2).reshape(100, 17, 1)\n",
    "\n",
    "matrices /= norm\n",
    "\n",
    "eps = 1e-8\n",
    "\n",
    "for matrix in matrices:\n",
    "    la, vec = np.linalg.eig(matrix)\n",
    "    m = np.max(np.abs(la))\n",
    "    if m - 1 > eps: print(m)\n",
    "        \n",
    "n = 3\n",
    "fig, ax = plt.subplots(1, 1)\n",
    "a = matrices[0]\n",
    "xg = np.diag(a).real\n",
    "yg = np.diag(a).imag\n",
    "rg = np.zeros(n)\n",
    "ev = np.linalg.eigvals(a)\n",
    "for i in range(n):\n",
    "    rg[i] = np.sum(np.abs(a[i, :])) - np.abs(a[i, i])\n",
    "    crc = plt.Circle((xg[i], yg[i]), radius=rg[i], fill=False)\n",
    "    ax.add_patch(crc)\n",
    "plt.scatter(ev.real, ev.imag, color='b', label=\"Eigenvalues\")\n",
    "plt.axis('equal')\n",
    "plt.legend()\n",
    "fig.tight_layout()"
   ]
  },
  {
   "cell_type": "markdown",
   "metadata": {
    "id": "sS3EHa1aKmJi"
   },
   "source": [
    "# Задача 7.  PageRank и степенные итерации.\n"
   ]
  },
  {
   "cell_type": "markdown",
   "metadata": {
    "id": "jwFuYj4DOUrD"
   },
   "source": [
    "Обычно вычисление собственных значений и собственных векторов необходимо для изучения\n",
    "- вибраций в механических структурах\n",
    "- снижения сложности моделей сложных систем \n",
    "\n",
    "Более половины вычислительных мощностей в мире тратится на решение задач такого типа для задач.\n",
    "\n",
    "Одна из самых известных задач о вычислении собственных векторов - задача о ранжировании $n$ веб-страниц (Google PageRank). Подход, который вам нужно будет реализовать в этой задаче, был одним из главных в работе Google на раннем этапе.\n",
    "\n",
    "Всё, что мы собираемся использовать - структуру взаимных ссылок между страницами. PageRank определяется рекурсивно: важность $i$-й страницы определяется как среднее значение важностей всех страниц, которые ссылаются на $i$-ю. Обозначим важность $i$-й страницы $p_{i}$, тогда это определение может быть записано в виде линейной системы:\n",
    "$$\n",
    "p_{i}=\\sum_{j} \\frac{p_{j}}{L(j)} l_{i j}\n",
    "$$\n",
    "где $l_{i j}=1$ если $j$-я страница ссылается на $i$-ю (в противном случае $\\left.l_{i j}=0\\right)$, а $L(j)-$ количество исходящих ссылок со страницы $j$. Система может быть переписана в виде задачи на собственное значение:\n",
    "$$\n",
    "p=G p, \\quad G_{i j}=\\frac{l_{i j}}{L(j)}\n",
    "$$\n",
    "Если в графе есть 'подвешенные' узлы (все элементы какого-то столбца равны нулю), то весь столбед заполняется числом $1 / n$. Наконец, вводится параметр $0<\\beta<1$ так что матрица $G$ заменяется на\n",
    "$$\n",
    "G \\rightarrow \\beta G+\\frac{1-\\beta}{n} e e^{T}\n",
    "$$\n",
    "где $e$ - вектор, состоящий из единиц. Обратите внимание, что задача свелась к нахождению собственного вектора $p$ матрицы $G$, отвечающего собственному значению $1 .$ Можно показать, что 1 - максимально возможное собственное значение матрицы $G .$\n",
    "- Придумайте самостоятельно небольшой граф связности ( 10 узлов), постройте соответствуюшие матрицы $l$ и $G$ и найдите численно собственный вектор, отвечающий PageRank.\n",
    "\n"
   ]
  },
  {
   "cell_type": "markdown",
   "metadata": {
    "id": "qvO0dyoLBbEi"
   },
   "source": [
    "- Скачайте файл, в котором представлен ориентированный граф, узлы которого составляют страницы stanford.edu, а направленные рёбра - ссылки между ними (граф задан матрицей смежности $l$ ). Распакуйте архив и загрузите его:\n",
    "- Найдите PageRank для матрицы из предыдущего пункта. Для этого реализуйте степенную итерацию для нахождения собственного вектора, отвечающего максимальному собственному значению $G .$ Возьмите $\\beta=0.8$\n",
    "- Итерируйте до тех пор, пока 1-норма изменения вектора-кандидата не станет меньше $10^{-4}$. Сколько итераций понадобилось?\n",
    "- Какому собственному значению отвечает найденный вектор и у какого узла наибольший РаgеRапk?\n",
    "- Докажите, что 1 - максимально возможное собственное значение матрицы G."
   ]
  },
  {
   "cell_type": "markdown",
   "metadata": {
    "id": "8-476ZEtKmk5"
   },
   "source": [
    "# Задача 8. Метод обратных итераций и итерации Рэлея."
   ]
  },
  {
   "cell_type": "markdown",
   "metadata": {
    "id": "N761oN6CvHjI"
   },
   "source": [
    "\n",
    "Напишите программу для нахождения минимального по модулю собственного значения и соответствующего собственного вектора симметричной матрицы при использовании обратных итераций Рэлея. С её помощью решите задачу для \n",
    "- матрицы Гильберта\n",
    "- матрицы Лемера\n",
    "- матрицы Паскаля \n",
    "- для симметричной трёхдиагональной матрицы, где на главной диагонали стоят 2, а на боковых диагоналях -1.\n",
    "\n",
    "Напишите на основе этой программы функцию, которая ищет ближайшее к заданному числу собственное значение. \n",
    "\n",
    "\n",
    "Для перечисленных матриц вывести ответ для n = 2, 3, ... 10.\n",
    "\n",
    "Матрицей Лемера называют матрицу, у которой элементы равны:\n",
    "\n",
    "$a_{i j}=\\frac{\\min (i, j)}{\\max (i, j)} $ (нумерация от 1)\n",
    "\n",
    "Матрицей Паскаля называют матрицу, у которой элементы равны:\n",
    "\n",
    "$S_{i j}=\\left(\\begin{array}{l}\n",
    "n \\\\\n",
    "r\n",
    "\\end{array}\\right)=\\frac{n !}{r !(n-r) !}, \\quad n=i+j, \\quad r=i$  (нумерация от 0) \n",
    "\n",
    "Примечание. Для некоторых матриц можно использовать также выражение обратной матрицы в явном виде.\n",
    "\n",
    " Матрица, обратная к матрице Гильберта, может быть выражена в явном виде через биномиальные коэффициенты:\n",
    "\n",
    "$$\n",
    "\\left(H^{-1}\\right)_{i j}=(-1)^{i+j}(i+j-1)\\left(\\begin{array}{c}\n",
    "n+i-1 \\\\\n",
    "n-j\n",
    "\\end{array}\\right)\\left(\\begin{array}{c}\n",
    "n+j-1 \\\\\n",
    "n-i\n",
    "\\end{array}\\right)\\left(\\begin{array}{c}\n",
    "i+j-2 \\\\\n",
    "i-1\n",
    "\\end{array}\\right)^{2}\n",
    "$$\n",
    "\n",
    "где $n$ - порядок матрицы. Таким образом, элементы обратной матрицы $H^{-1}-$ целые числа.  "
   ]
  },
  {
   "cell_type": "markdown",
   "metadata": {
    "id": "s8jGlqhJKmpB"
   },
   "source": [
    "# Задача 9.  PageRank с помощью библиотек на Python."
   ]
  },
  {
   "cell_type": "markdown",
   "metadata": {
    "id": "gnuqkCwG_Byz"
   },
   "source": [
    "Мы можем вычислить PageRank с помощью библиотек на Python. Будем использовать бибилотеку networkx для работы с графами, она может быть установлена с помощью следующей команды\n",
    "\n",
    "conda install networkx\n",
    "\n",
    "Возьмём простой пример графа Zachary karate club. Этот граф был собран вручную в 1977, и является классическим графом для анализа соцсетей.\n",
    "https://en.wikipedia.org/wiki/Zachary%27s_karate_club  \n",
    "\n",
    "  "
   ]
  },
  {
   "cell_type": "code",
   "execution_count": null,
   "metadata": {
    "id": "FBMpqYJyospx"
   },
   "outputs": [],
   "source": [
    "import numpy as np\n",
    "%matplotlib inline\n",
    "import matplotlib.pyplot as plt\n",
    "import networkx as nx\n",
    "kn = nx.read_gml('graph.gml')\n",
    "#nx.write_gml(kn, 'karate2.gml')\n",
    "nx.draw_networkx(kn) #Draw the graph "
   ]
  },
  {
   "cell_type": "markdown",
   "metadata": {
    "id": "eAwHTNAPouBI"
   },
   "source": [
    "Сейчас мы можем вычислить PageRank, используя функцию, встроенную в NetworkX. Мы также изобразим вершины графа пропорционально тому, наскольку они важны в смысле величины PageRank'a.\n",
    "\n",
    "  "
   ]
  },
  {
   "cell_type": "code",
   "execution_count": null,
   "metadata": {
    "id": "v0smebgKo6lw"
   },
   "outputs": [],
   "source": [
    "pr = nx.algorithms.link_analysis.pagerank(kn)\n",
    "pr_vector = list(pr.values())\n",
    "pr_vector = np.array(pr_vector) * 3000\n",
    "nx.draw_networkx(kn, node_size=pr_vector, labels=None)"
   ]
  },
  {
   "cell_type": "markdown",
   "metadata": {
    "id": "gsIw71-Qo7Do"
   },
   "source": [
    "Самостоятельно проделайте это всё для страниц stanford.edu"
   ]
  },
  {
   "cell_type": "markdown",
   "metadata": {
    "id": "634QUTkyKnWR"
   },
   "source": [
    "# Задача 10. Вunch-Nielsen-Sorensen formula."
   ]
  },
  {
   "cell_type": "markdown",
   "metadata": {
    "id": "LEz9K5bSVweZ"
   },
   "source": [
    "Рассмотрите диагональную матрицу $D$ размера $n \\times n$ и вектор-столбец $u$. Выберите $D$ и $u$ случайным образом (сгенерировав их элементы из стандартного нормального распределения) и найдите минимальное собственное значение и соответствующий собственный ему собственный вектор матрицы\n",
    "$$\n",
    "A=D+\\frac{u u^{T}}{u^{T} u}\n",
    "$$\n",
    "\n",
    "Рассмотрите случаи $n=10^{2}$ и $n=10^{4}-$ во втором случае Вам, возможно, пригодится Вunch-Nielsen-Sorensen formula  \n",
    "\n",
    "Let $\\lambda_{i}$ denote the eigenvalues of $A$ and $\\tilde{\\lambda}_{i}$ denote the eigenvalues of the updated matrix $\\tilde{A}=A+v v^{T} .$ In the special case when $A$ is diagonal, the eigenvectors $\\tilde{q}_{i}$ of $\\tilde{A}$ can be written\n",
    "\n",
    "$$\n",
    "\\left(\\tilde{q}_{i}\\right)_{k}=\\frac{N_{i} v_{k}}{\\lambda_{k}-\\tilde{\\lambda}_{i}}\n",
    "$$\n",
    "\n",
    "where $N_{i}$ is a number that makes the vector $\\tilde{q}_{i}$ normalized. "
   ]
  },
  {
   "cell_type": "markdown",
   "metadata": {
    "id": "Mxx-UqNPYWB5"
   },
   "source": [
    "# Задача 11. Матрица вида диагональная матрица плюс матрица малого ранга."
   ]
  },
  {
   "cell_type": "markdown",
   "metadata": {
    "id": "rfMJzTH4XEUp"
   },
   "source": [
    "- Собственные значения матрицы вида\n",
    "$$\n",
    "D+\\rho u u^*\n",
    "$$\n",
    "вычислить не так просто!\n",
    "- Характеристический многочлен имеет вид\n",
    "$$\n",
    "\\operatorname{det}\\left(D+\\rho u u^*-\\lambda I\\right)=\\operatorname{det}(D-\\lambda I) \\operatorname{det}\\left(I+\\rho(D-\\lambda I)^{-1} u u^*\\right)=0\n",
    "$$\n",
    "Тогда (докажите!!)\n",
    "$$\n",
    "\\operatorname{det}\\left(I+\\rho(D-\\lambda I)^{-1} u u^*\\right)=1+\\rho \\sum_{i=1}^n \\frac{\\left|u_i\\right|^2}{d_i-\\lambda}=0\n",
    "$$\n",
    "Подсказка: найдите $\\operatorname{det}\\left(I+w u^*\\right)$ используя два факта:\n",
    "- $\\operatorname{det}(C)=\\prod_{i=1}^n \\lambda_i(C)$\n",
    "- $\\operatorname{trace}(C)=\\sum_{i=1}^n \\lambda_i$. \n",
    "\n"
   ]
  },
  {
   "cell_type": "code",
   "execution_count": 4,
   "metadata": {
    "colab": {
     "base_uri": "https://localhost:8080/",
     "height": 302
    },
    "id": "lYYULVCPXUBI",
    "outputId": "bb91317d-af77-44b7-cdad-f18158ae1bb3"
   },
   "outputs": [
    {
     "data": {
      "image/png": "[encoded data removed]",
      "text/plain": [
       "<Figure size 432x288 with 1 Axes>"
      ]
     },
     "metadata": {
      "needs_background": "light"
     },
     "output_type": "display_data"
    }
   ],
   "source": [
    "import numpy as np\n",
    "\n",
    "lm = [1, 2, 3, 4]\n",
    "M = len(lm)\n",
    "D = np.array(lm)\n",
    "a = np.min(lm)\n",
    "b = np.max(lm)\n",
    "t = np.linspace(-1, 6, 1000)\n",
    "u = 0.5 * np.ones(M)\n",
    "rho = 1\n",
    "def fun(lam):\n",
    "    return 1 + rho * np.sum(u**2/(D - lam))\n",
    "res = [fun(lam) for lam in t]\n",
    "plt.plot(t, res, 'k')\n",
    "plt.plot(t, np.zeros_like(t))\n",
    "plt.ylim([-6, 6])\n",
    "plt.xticks(fontsize=18)\n",
    "plt.yticks(fontsize=18)\n",
    "_ = plt.xlabel(\"$\\lambda$\", fontsize=18)"
   ]
  },
  {
   "cell_type": "markdown",
   "metadata": {
    "id": "rxmcna7yZGEo"
   },
   "source": [
    "Эта функция имеет только один корень на каждом отрезке $\\left[d_i, d_{i+1}\\right]$\n",
    "\n",
    "Мы показали справедливость теоремы Коши о чередовании (что происходит с собственными числами после внесения возмущения ранга 1).\n",
    "\n",
    "Сформулируйте самостоятельно и докажите эту теорему."
   ]
  },
  {
   "cell_type": "markdown",
   "metadata": {
    "id": "AGRuRs_sZdZa"
   },
   "source": [
    "# Задача 12. Нелинейное характеристическое уравнение."
   ]
  },
  {
   "cell_type": "markdown",
   "metadata": {
    "id": "dBPLqckUXKSR"
   },
   "source": [
    "Решите нелинейное уравнение для $\\lambda$\n",
    "\n",
    "$$\n",
    "1+\\rho \\sum_{i=1}^n \\frac{\\left|u_i\\right|^2}{d_i-\\lambda}=0\n",
    "$$\n",
    "\n",
    "Указания:\n",
    "\n",
    "- Метод Ньютона не сработает (изобразите касательные к графику , можно использовать графики из прошлой задачи).\n",
    "- Заметим, что метод Ньютона - это по сути линейная аппроксимация функции $f(\\lambda)$ на каждой итерации.\n",
    "- Лучше аппроксимировать с помощью гиперболы вида:\n",
    "$$\n",
    "f(\\lambda) \\approx c_0+\\frac{c_1}{d_i-\\lambda}+\\frac{c_2}{d_{i+1}-\\lambda}\n",
    "$$\n",
    "- Для вычисления коэффициентов нам нужно вычислить $f(\\lambda)$ и $f^{\\prime}(\\lambda)$ в некоторых точках.\n",
    "- После чего получить апроксимацию из решения квадратного уравнения"
   ]
  },
  {
   "cell_type": "markdown",
   "metadata": {
    "id": "POvwcrRZaJ4h"
   },
   "source": [
    "# Задача 13. Теорема Лёвнера (Charles Loewner)."
   ]
  },
  {
   "cell_type": "markdown",
   "metadata": {
    "id": "k0iXD0Spa6Tq"
   },
   "source": [
    "## Докажите теорему Лёвнера."
   ]
  },
  {
   "cell_type": "markdown",
   "metadata": {
    "id": "sPjtpOb9Xcnx"
   },
   "source": [
    "**Важный недостаток метода \"разделяй и властвуй\"**\n",
    "\n",
    "- Устойчивость: этот метод игнорировали долгое время из-за неустойчивого вычисления собственных векторов.\n",
    "- Нам нужно вычислить собственные векторы матрицы $D+\\rho u u^*$.\n",
    "- Точное выражение для собственных векторов $v_i$, для которых найдены собственные значения $\\alpha_i$ :\n",
    "$$\n",
    "\\left(D+\\rho u u^*\\right) v_i=\\alpha_i v_i \\quad\\left(D-\\alpha_i I\\right) v_i+\\rho\\left(u^* v_i\\right) u=0\n",
    "$$\n",
    "То есть $v_i \\in \\operatorname{span}\\left(\\left\\{\\left(D-\\alpha_i I\\right)^{-1} u\\right\\}\\right)$\n",
    "\n",
    "**Причины неустойчивости:**\n",
    "- если есть два близких собственных числа $\\alpha_i$ и $\\alpha_{i+1}$, то соответствующие векторы $\\left(D-\\alpha_i I\\right)^{-1} u$ и $\\left(D-\\alpha_{i+1} I\\right)^{-1} u$ будут близки, хотя долждны быть ортогональны\n",
    "- если $\\alpha_i$ и $\\alpha_{i+1}$ очень близки, то они близки к числу $d_i$ между ними, то есть матрицы $D-\\alpha_i I$ и $D-\\alpha_{i+1} I$ близки к вырожденным "
   ]
  },
  {
   "cell_type": "markdown",
   "metadata": {
    "id": "0BAGprxuXre6"
   },
   "source": [
    "**Теорема Лёвнера (Charles Loewner)** "
   ]
  },
  {
   "cell_type": "markdown",
   "metadata": {
    "id": "3G1e9_HfX545"
   },
   "source": [
    "- Решение проблемы неустойчивости можно получить с помощью теоремы Лёвнера:\n",
    "\n",
    "\n",
    "Если $\\alpha_i$ и $d_i$ удовлетворяют теореме о чередовании\n",
    "$$\n",
    "d_n<\\alpha_n<\\ldots<d_{i+1}<\\alpha_{i+1} \\ldots\n",
    "$$\n",
    "Тогда существует вектор $\\widehat{u}$ такой что $\\alpha_i$ - точное собственное значение матрицы\n",
    "$$\n",
    "\\widehat{D}=D+\\widehat{u} \\widehat{u}^*\n",
    "$$\n",
    "и\n",
    "$$\n",
    "\\widehat{u}_i^2=\\frac{\\prod_{j=1}^n\\left(\\alpha_j-d_i\\right)}{\\prod_{j=1, j \\neq i}^n\\left(d_j-d_i\\right)}\n",
    "$$\n",
    "- Использование вектора $\\widehat{u}$ вместо $u$ даёт устойчивое вычисление собственного вектора!\n",
    "- Таким образом, сначала вычисляются собственные значения, затем $\\widehat{u}$ и только потом собственные векторы. "
   ]
  },
  {
   "cell_type": "markdown",
   "metadata": {
    "id": "10Bi8zlxcwBB"
   },
   "source": [
    "# Задача 14. Верхне-гессенберговая форма"
   ]
  },
  {
   "cell_type": "markdown",
   "metadata": {
    "id": "ZpgH8GOMpj93"
   },
   "source": [
    "Напишите функцию, которая решает СЛАУ методом отражений Хаусхолдера.\n",
    "И вторую функцию, которая приводит матрицу к верхне-гессенберговой форме."
   ]
  },
  {
   "cell_type": "markdown",
   "metadata": {
    "id": "3x4oxwvGp1JV"
   },
   "source": [
    "## Пример работы алгоритма."
   ]
  },
  {
   "cell_type": "markdown",
   "metadata": {
    "id": "h79axyLcczqf"
   },
   "source": [
    "Решим для примера систему уравнений \"вручную\" методом отражений.\n",
    "\n",
    "Система уравнений:\n",
    "\n",
    "$$\n",
    "\\left\\{\\begin{array}{l}\n",
    "x_1+x_2-x_3=1 \\\\\n",
    "x_1-2 x_2+x_3=3 \\\\\n",
    "3 x_1+2 x_2+x_3=4\n",
    "\\end{array}\\right.\n",
    "$$\n",
    "\n",
    "Расширенная матрица системы:\n",
    "\n",
    "$A^{(0)}=\\left|\\begin{array}{lrrr}1.00000 & 1.00000 & -1.0000 & 1.0000 \\\\ 1.0000 & -2.0000 & 1.0000 & 3.0000 \\\\ 3.0000 & 2.0000 & 1.0000 & 4.0000\\end{array}\\right|$\n",
    "Шar $1, k=1$\n",
    "$$\n",
    "\\begin{aligned}\n",
    "&s=\\left|\\begin{array}{l}\n",
    "1.0000 \\\\\n",
    "1.0000 \\\\\n",
    "3.0000\n",
    "\\end{array}\\right|, \\quad h=\\left|\\begin{array}{l}\n",
    "1.0000 \\\\\n",
    "0.0000 \\\\\n",
    "0.0000\n",
    "\\end{array}\\right| \\\\\n",
    "&d=\\sum_{i=1}^3 s_i^2=1^2+1^2+3^2=11, \\quad b=\\operatorname{sign}\\left(a_{1,1}^{(0)}\\right) \\sqrt{d}=3.3166, \\quad p=\\sqrt{2(11+3.3166 \\cdot 1.0000)}=5.3510\n",
    "\\end{aligned}\n",
    "$$\n",
    "\n",
    "\n",
    "\\begin{aligned}\n",
    "&w=\\frac{1}{p}(s+b h)=\\frac{1}{5.3510} \\cdot\\left(\\left|\\begin{array}{c}\n",
    "1.0000 \\\\\n",
    "1.0000 \\\\\n",
    "3.0000\n",
    "\\end{array}\\right|+3.3166 \\cdot\\left|\\begin{array}{l}\n",
    "1.0000 \\\\\n",
    "0.0000 \\\\\n",
    "0.0000\n",
    "\\end{array}\\right|\\right)=\\left|\\begin{array}{l}\n",
    "0.8067 \\\\\n",
    "0.1869 \\\\\n",
    "0.5606\n",
    "\\end{array}\\right| \\\\\n",
    "&\n",
    "\\end{aligned}\n",
    "\n",
    "\n"
   ]
  },
  {
   "cell_type": "markdown",
   "metadata": {
    "id": "QykRhjIBnlpB"
   },
   "source": [
    "\\begin{aligned}\n",
    "&U=E-2 w w^T=\\left|\\begin{array}{ccc}\n",
    "1 & 0 & 0 \\\\\n",
    "0 & 1 & 0 \\\\\n",
    "0 & 0 & 1\n",
    "\\end{array}\\right|-2 \\cdot\\left|\\begin{array}{ll}\n",
    "0.8067 \\\\\n",
    "0.1869 \\\\\n",
    "0.5606\n",
    "\\end{array}\\right| \\cdot|0.80670 .1869 \\quad 0.5606|=\\left|\\begin{array}{rrr}\n",
    "-0.3015 & -0.3015 & -0.9045 \\\\\n",
    "-0.3015 & 0.9302 & -0.209 \\\\\n",
    "-0.9045 & -0.2095 & 0.3714\n",
    "\\end{array}\\right|, \\\\\n",
    "&\n",
    "\\end{aligned}\n",
    "\n",
    "$$A^{(1)}=U^{(1)} \\cdot A^{(0)}=\\left|\\begin{array}{rrrr}\n",
    "-0.3015 & -0.3015 & -0.9045 \\\\\n",
    "-0.3015 & 0.9302 & -0.2095 \\\\\n",
    "-0.9045 & -0.2095 & 0.3714\n",
    "\\end{array}\\right| \\cdot\\left|\\begin{array}{rrrr}\n",
    "1.0000 & 1.00000 & -1.00000 & 1.0000 \\\\\n",
    "1.0000 & -2.0000 & 1.0000 & 3.0000 \\\\\n",
    "3.0000 & 2.0000  & 1.0000 & 4.0000\n",
    "\\end{array}\\right| \n",
    "=\\left|\\begin{array}{rrrr}\n",
    "-3.3166 & -1.5076 & -0.9045 & -4.8242 \\\\\n",
    "0.0000 & -2.5809 & 1.0221 & 1.6508 \\\\\n",
    "0.0000 & 0.2573 & 1.0663 & -0.0477\n",
    "\\end{array}\\right|$$\n",
    "\n"
   ]
  },
  {
   "cell_type": "markdown",
   "metadata": {
    "id": "c24DWIpho6vn"
   },
   "source": [
    "Шаг $2, k=2$\n",
    "$$\n",
    "\\begin{aligned}\n",
    "&s=\\left|\\begin{array}{r}\n",
    "0.0000 \\\\\n",
    "-2.5809 \\\\\n",
    "0.2573\n",
    "\\end{array}\\right|, h=\\left|\\begin{array}{l}\n",
    "0.0000 \\\\\n",
    "1.00000 \\\\\n",
    "0.0000\n",
    "\\end{array}\\right|, \\\\\n",
    "&d=(-2.5809)^2+(0.2573)^2=6.7273, \\quad b=\\operatorname{sign}\\left(a_{2,2}^{(1)}\\right) \\sqrt{d}=-2.5937, \\\\\n",
    "&p=5.1810, w=\\frac{1}{5.1810} \\cdot\\left(\\left|\\begin{array}{r}\n",
    "0.0000 \\\\\n",
    "-2.5809 \\\\\n",
    "0.2573\n",
    "\\end{array}\\right|-2.5937 \\cdot\\left|\\begin{array}{l}\n",
    "0.0000 \\\\\n",
    "1.0000 \\\\\n",
    "0.0000\n",
    "\\end{array}\\right|\\right)=\\left|\\begin{array}{r}\n",
    "0.0000 \\\\\n",
    "-0.9988 \\\\\n",
    "0.0497\n",
    "\\end{array}\\right|,\n",
    "\\end{aligned}\n",
    "$$ "
   ]
  },
  {
   "cell_type": "markdown",
   "metadata": {
    "id": "bS-TTmzMpA6k"
   },
   "source": [
    "$$U=\\left|\\begin{array}{lll}\n",
    "1 & 0 & 0 \\\\\n",
    "0 & 1 & 0 \\\\\n",
    "0 & 0 & 1\n",
    "\\end{array}\\right|-2 \\cdot\\left|\\begin{array}{rrr}\n",
    "0.0000 \\\\\n",
    "-0.9988 \\\\\n",
    "0.0497\n",
    "\\end{array}\\right| \\cdot|0.0000-0.99880 .0497|=\\left|\\begin{array}{rrr}\n",
    "1.0000 & 0.0000 & -0.0000 \\\\\n",
    "0.0000 & -0.9951 & 0.0992 \\\\\n",
    "-0.0000 & 0.0992 & 0.9951\n",
    "\\end{array}\\right| \\text {, } $$\n",
    "\n",
    "$$A^{(2)}=U^{(2)} \\cdot A^{(1)}=  \\left|\\begin{array}{rrrr}\n",
    "-3.3166 & -1.5076 & -0.9045 & -4.8242 \\\\\n",
    "-0.0000 & 2.5937 & -0.9113 & -1.6473 \\\\\n",
    "0.0000 & 0.0000 & 1.1625 & 0.1162\n",
    "\\end{array}\\right|$$\n",
    "\n",
    "По полученной расширенной матрице А ${ }^{(2)}$ запишем систему уравнений, эквивалентную исходной системе:\n",
    "$$\n",
    "\\left\\{\\begin{array}{l}\n",
    "-3.3166 \\cdot x_1-1.5076 \\cdot x_2-0.9045 \\cdot x_3=-4.8242 \\\\\n",
    "2.5937 \\cdot x_2-0.9113 \\cdot x_3=-1.6473 \\\\\n",
    "1.1625 \\cdot x_3=0.1162\n",
    "\\end{array}\\right.\n",
    "$$\n",
    "\n",
    "из третьего уравнения находим $x_3$, подставляем его во второе уравнение, находим $x_2$, подставляем х ${ }_2$ и х в первое уравнение, и находим $x_1$. Получим\n",
    "$$\n",
    "x_1=1.7, x_2=-0.6, x_3=0.1\n",
    "$$\n",
    "по ссылке (формальный параметр с префиксом var)."
   ]
  }
 ],
 "metadata": {
  "colab": {
   "collapsed_sections": [
    "MeXTSdSfKdL2",
    "sS3EHa1aKmJi",
    "8-476ZEtKmk5",
    "s8jGlqhJKmpB",
    "634QUTkyKnWR",
    "Mxx-UqNPYWB5",
    "AGRuRs_sZdZa",
    "POvwcrRZaJ4h",
    "k0iXD0Spa6Tq",
    "10Bi8zlxcwBB",
    "3x4oxwvGp1JV"
   ],
   "provenance": []
  },
  "kernelspec": {
   "display_name": "Python 3 (ipykernel)",
   "language": "python",
   "name": "python3"
  },
  "language_info": {
   "codemirror_mode": {
    "name": "ipython",
    "version": 3
   },
   "file_extension": ".py",
   "mimetype": "text/x-python",
   "name": "python",
   "nbconvert_exporter": "python",
   "pygments_lexer": "ipython3",
   "version": "3.9.7"
  }
 },
 "nbformat": 4,
 "nbformat_minor": 1
}
