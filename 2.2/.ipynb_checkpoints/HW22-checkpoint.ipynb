{
 "cells": [
  {
   "cell_type": "code",
   "execution_count": 4,
   "id": "aecdb7d8",
   "metadata": {},
   "outputs": [],
   "source": [
    "import numpy as np\n",
    "import pandas as pd\n",
    "from scipy import stats\n",
    "import seaborn as sns\n",
    "from sklearn.preprocessing import PolynomialFeatures\n",
    "from sklearn.model_selection import KFold\n",
    "import sklearn as sk\n",
    "from sklearn import datasets, linear_model\n",
    "from matplotlib import pyplot as plt"
   ]
  },
  {
   "cell_type": "markdown",
   "id": "7c581b81",
   "metadata": {},
   "source": [
    "# Задача 1"
   ]
  },
  {
   "cell_type": "markdown",
   "id": "9a4843fb",
   "metadata": {},
   "source": [
    "$$\n",
    "    \\prod\\limits_{i} p(x_i) \\rightarrow \\max_{\\mu, \\ \\sigma}; \\ p(x) = \\frac{1}{\\sqrt{2 \\pi \\sigma^2}} e^{-\\frac{(x - \\mu)^2}{2 \\sigma^2}}\n",
    "$$\n",
    "\n",
    "$$\n",
    "    \\prod\\limits_{i} p(x_i) = \\frac{1}{(2 \\pi \\sigma)^{n/2}} \\exp{( -\\frac{1}{2 \\sigma^2} \\sum\\limits_{i=1}^n (x_i - \\mu)^2)} \\ \\text{- функция правдоподобия}\n",
    "$$\n",
    "\n",
    "$$\n",
    "    L = \\log{\\prod\\limits_{i} p(x_i)} = - \\log((2 \\pi)^2) - \\frac{n}{2} \\log{\\sigma ^2} - \\frac{1}{2 \\sigma^2} \\sum\\limits_{i=1}^n (x_i - \\mu)^2\n",
    "$$\n",
    "\n",
    "$$\n",
    "    \\begin{cases} \\frac{\\partial L}{\\partial \\mu} = \\frac{\\sum\\limits_{i=1}^n (x_i - \\mu)}{\\sigma^2} = 0 \\\\\\frac{\\partial L}{\\partial \\sigma^2} = - \\frac{n}{2 \\sigma^2} + \\frac{\\sum\\limits_{i=1}^n (x_i - \\mu)^2}{\\sigma^4} = 0 \\end{cases} \\ \\Rightarrow \\begin{cases} \\hat{\\mu} = < x > \\\\ \\hat{\\sigma}^2 = \\frac{\\sum\\limits_{i=1}^n (x_i - <x>)^2}{n} \\end{cases}\n",
    "$$"
   ]
  },
  {
   "cell_type": "markdown",
   "id": "c40d1ced",
   "metadata": {},
   "source": [
    "# Задача 2"
   ]
  },
  {
   "cell_type": "markdown",
   "id": "3b0bebd6",
   "metadata": {},
   "source": [
    "**Теорема Байеса**\n",
    "\n",
    "$$\n",
    "P(A|B) = \\frac{P(B|A)\\cdot P(A)}{P(B)} = \\frac{P(B|A)\\cdot P(A)}{\\sum\\limits_{A} P(B|A) \\cdot P(A)}\n",
    "$$\n",
    "\n",
    "Количество срабатывания счетчика за минуту поддается распределению\n",
    "\n",
    "$$\n",
    "    P_\\lambda = \\frac{\\lambda^n}{n!} e^{-\\lambda}\n",
    "$$\n",
    "\n",
    "1. Введём априорное распределение:\n",
    "\n",
    "$$\n",
    "    p(\\lambda) \\approx \\begin{cases} p(0), & x << +\\infty, \\\\ 0, & x → +\\infty.  \\end{cases}\n",
    "$$\n",
    "\n",
    "Тогда в знаменателе множитель $p(\\lambda)$ можно вынести из-под знака интеграла.\n",
    "\n",
    "\n",
    "$$\n",
    "    p(\\lambda | m) = \\frac{p(m|\\lambda)\\cdot p(\\lambda)}{\\int_0^\\infty p(m|\\lambda)\\cdot p(\\lambda) d\\lambda} \n",
    "    ≈ \\frac{p(m|\\lambda)\\cdot p(\\lambda)}{p(\\lambda)\\int_0^\\infty p(m|\\lambda)\\cdot  d\\lambda}\n",
    "    = \\frac{\\lambda^m e^{-\\lambda}}{\\int_0^\\infty\\lambda^m e^{-\\lambda}d\\lambda}\n",
    "    = \\frac{\\lambda^m e^{-\\lambda}}{\\Gamma(m+1)} = P_{\\Gamma(1,\\hspace{2mm} m+1)}\n",
    "$$\n",
    "\n",
    "\n",
    "\n",
    "2.  \n",
    "$$\n",
    "    p(\\lambda | m, m') = \\frac{p(m'|\\lambda)\\cdot p(\\lambda|m)}{\\int_0^\\infty p(m'|\\lambda)\\cdot p(\\lambda|m) d\\lambda} \n",
    "    = \\frac{\\frac{\\lambda^{m'} e^{-\\lambda}}{m'!}\\cdot \\frac{\\lambda^m e^{-\\lambda}}{\\Gamma(m+1)}}{\\int_0^\\infty \\frac{\\lambda^{m'} e^{-\\lambda}}{m'!}\\cdot \\frac{\\lambda^m e^{-\\lambda}}{\\Gamma(m+1)}  d\\lambda}\n",
    "    = \\frac{\\lambda^{m'+m} e^{-2\\lambda}}{\\int_0^\\infty\\lambda^{m'+m} e^{-2\\lambda}d\\lambda}\n",
    "    = \\frac{\\lambda^{m'+m} e^{-2\\lambda}}{\\Gamma(m'+m+1)*(1/2)^{m'+m+1}} = P_{\\Gamma(\\frac{1}{2},\\hspace{2mm} m'+m+1)}\n",
    "$$"
   ]
  },
  {
   "cell_type": "markdown",
   "id": "6789dfe7",
   "metadata": {},
   "source": [
    "# Задача 3"
   ]
  },
  {
   "cell_type": "markdown",
   "id": "180005da",
   "metadata": {},
   "source": [
    "Случайно выбранный житель будет болен с вероятностью $P(\\text{болен}) = 10^{-5}$.\n",
    "Мы получаем информацию о тесте. Тогда\n",
    "\n",
    "$$\n",
    "    P(+|\\text{болен}) = 0,99\\\\\n",
    "    P(+|\\text{здоров}) = 0,01\n",
    "$$\n",
    "\n",
    "По формуле Байеса, \n",
    "$$\n",
    "     P(\\text{болен}|+) = \\frac{P(+|\\text{болен})\\cdot P(\\text{болен})}{P(+|\\text{болен})\\cdot P(\\text{болен}) + P(+|\\text{здоров})\\cdot P(\\text{здоров})} \n",
    "     ≈ \\frac{0,99\\cdot 10^{-5}}{0,99\\cdot 10^{-5} + 0,01\\cdot 1} \\approx \\frac{0,99\\cdot 10^{-5}}{0,01} \\approx 10^{-3}\n",
    "$$\n",
    "\n",
    "**Ответ:** То есть Петя с положительным тестом на коронавирус, реально болеет с вероятностью $10^{-3}$"
   ]
  },
  {
   "cell_type": "markdown",
   "id": "8fe0385b",
   "metadata": {},
   "source": [
    "# Задача 4"
   ]
  },
  {
   "cell_type": "markdown",
   "id": "a155ddbf",
   "metadata": {},
   "source": [
    "$$\n",
    "    p(\\bf{x}|x_1) \\propto p(x_1|x)\\cdot p_0(x)\n",
    "    = \\exp\\left[-\\frac{1}{2}\\left(x_1^T A x_1 + x^T A x\\right)\\right]\n",
    "$$\n",
    "\n",
    "Нормировочная константа равна константе для $n$-мерного нормального распределения.\n",
    "\n",
    "$$\n",
    "\\text{Ответ: } \\ p(\\bf{x}|x_1) = \\left(\\frac{\\det A}{2\\pi}\\right)^\\frac{n}{2}\\exp\\left[-\\frac{1}{2}\\left(x_1^T A x_1 + x^T A x\\right)\\right]\n",
    "$$"
   ]
  },
  {
   "cell_type": "markdown",
   "id": "02961ed6",
   "metadata": {},
   "source": [
    "# Задача 6"
   ]
  },
  {
   "cell_type": "code",
   "execution_count": 6,
   "id": "395ff12b",
   "metadata": {},
   "outputs": [
    {
     "data": {
      "image/png": "[encoded data removed]",
      "text/plain": [
       "<Figure size 432x288 with 1 Axes>"
      ]
     },
     "metadata": {
      "needs_background": "light"
     },
     "output_type": "display_data"
    }
   ],
   "source": [
    "data, target = sk.datasets.load_diabetes(return_X_y=True)\n",
    "a = 1e-6\n",
    "alpha_linspace = np.linspace(a, 1, 200)\n",
    "lm = linear_model.Lasso(a)\n",
    "lm.fit(data, target)\n",
    "values = lm.coef_\n",
    "for alpha in alpha_linspace:\n",
    "    lm = linear_model.Lasso(alpha)\n",
    "    lm.fit(data, target)\n",
    "    values = np.vstack([values, lm.coef_])\n",
    "alpha_linspace = np.hstack([[a], alpha_linspace])\n",
    "for i in range(values.shape[1]):\n",
    "    plt.plot(np.log(alpha_linspace), values[:, i], 0.9)\n",
    "plt.show()"
   ]
  }
 ],
 "metadata": {
  "kernelspec": {
   "display_name": "Python 3 (ipykernel)",
   "language": "python",
   "name": "python3"
  },
  "language_info": {
   "codemirror_mode": {
    "name": "ipython",
    "version": 3
   },
   "file_extension": ".py",
   "mimetype": "text/x-python",
   "name": "python",
   "nbconvert_exporter": "python",
   "pygments_lexer": "ipython3",
   "version": "3.9.7"
  }
 },
 "nbformat": 4,
 "nbformat_minor": 5
}
