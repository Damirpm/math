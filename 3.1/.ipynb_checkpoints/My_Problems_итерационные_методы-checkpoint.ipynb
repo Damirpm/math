{
 "cells": [
  {
   "cell_type": "markdown",
   "metadata": {
    "id": "MeXTSdSfKdL2"
   },
   "source": [
    "## *Задача 1. Генераторы разреженных матриц* \n"
   ]
  },
  {
   "cell_type": "markdown",
   "metadata": {
    "id": "19smb2owQS40"
   },
   "source": [
    "Реализовать с помощью scipy генератор полосатых матриц, который должен поддерживать функции:\n",
    "* Генерация абсолютно случайной полосатой матрицы $n\\times m$\n",
    "* Генерация полосатой матрицы с постоянными коэффициентами вдоль каждой полосы $n\\times n$\n",
    "* Генерация случайного возмущения матрицы $n\\times m$, каждый элемент которой не превосходит по модулю заданный $\\varepsilon$\n",
    "* Генерация полосатой матрицы, в которой полосы заданы векторами.\n",
    "\n",
    " Сравнить три приведённых ниже метода создания матриц между собой по использованию памяти, используя измерение размера объектов в Python (sys.getsizeof(object[, default])). \n",
    " Реализовать генератор матриц всеми тремя методами, сравнить их также по скорости (для решения систем уравнений).\n",
    "\n",
    "Для повышения производительности можно использовать sparse.linalg.splu(A).solve(b) , который использует LU-декомпозицию, после чего объект SuperLU  имеет свой собственный метод solve.\n",
    "\n",
    "Реализуйте генератор матриц, используя этот метод. \n",
    "https://docs.scipy.org/doc/scipy/reference/sparse.linalg.html#module-scipy.sparse.linalg   \n",
    "\n",
    "Убедитесь измерением времени работы, что он работает быстрее. Однако третий метод считается самым предпочтительным. Найдите, в чём недостаток предложенного метода, и покажите его с помощью измерений.\n",
    "\n",
    "Для измерений можно использовать \n",
    "\n",
    "https://docs.python.org/3/library/resource.html#resource-usage  "
   ]
  },
  {
   "cell_type": "code",
   "execution_count": 16,
   "metadata": {
    "id": "fpAZctoEOXxC"
   },
   "outputs": [
    {
     "name": "stdout",
     "output_type": "stream",
     "text": [
      "[[1. 1. 0. 1. 0. 0. 0. 0. 0. 0.]\n",
      " [1. 1. 1. 0. 1. 0. 0. 0. 0. 0.]\n",
      " [0. 1. 1. 1. 0. 1. 0. 0. 0. 0.]\n",
      " [1. 0. 1. 1. 1. 0. 1. 0. 0. 0.]\n",
      " [0. 1. 0. 1. 1. 1. 0. 1. 0. 0.]\n",
      " [0. 0. 1. 0. 1. 1. 1. 0. 1. 0.]\n",
      " [0. 0. 0. 1. 0. 1. 1. 1. 0. 1.]\n",
      " [0. 0. 0. 0. 1. 0. 1. 1. 1. 0.]\n",
      " [0. 0. 0. 0. 0. 1. 0. 1. 1. 1.]\n",
      " [0. 0. 0. 0. 0. 0. 1. 0. 1. 1.]] \n",
      " [-0.18511286  0.20511783  0.12046417  0.13900699  0.10775401 -0.26719504\n",
      "  0.18730185  0.35470162  0.01255415  0.12938115] \n",
      " 0.0003989386558532715 сек\n"
     ]
    }
   ],
   "source": [
    "import sys as ss\n",
    "import time\n",
    "from scipy import sparse\n",
    "from scipy import linalg\n",
    "import numpy as np\n",
    "\n",
    "start = time.time()\n",
    "\n",
    "for i in range(100):\n",
    "    N = 10\n",
    "    m = 3\n",
    "    Ap, As, An, Aw, Ae = np.ones(N), np.ones(N), np.ones(N), np.ones(N), np.ones(N)\n",
    "    diagonals = [Ap, As, An, Aw, Ae]\n",
    "    A = scipy.sparse.diags(diagonals, [0, -1, 1, -m, m]).toarray()\n",
    "    b= np.random.rand(N)\n",
    "    x = linalg.solve(A, b)\n",
    "\n",
    "end = time.time()\n",
    "\n",
    "t = (end - start)/(i+1)\n",
    "\n",
    "print(A, '\\n', x,'\\n', t, 'сек')"
   ]
  },
  {
   "cell_type": "code",
   "execution_count": 4,
   "metadata": {
    "id": "erDyhJCuQyfz"
   },
   "outputs": [
    {
     "name": "stdout",
     "output_type": "stream",
     "text": [
      "[[1. 1. 1. 1. 1. 1. 1. 1. 1. 1.]\n",
      " [0. 0. 0. 0. 0. 0. 0. 0. 0. 0.]\n",
      " [1. 1. 1. 1. 1. 1. 1. 1. 1. 1.]\n",
      " [1. 1. 1. 1. 1. 1. 1. 1. 1. 1.]\n",
      " [1. 1. 1. 1. 1. 1. 1. 1. 1. 1.]\n",
      " [0. 0. 0. 0. 0. 0. 0. 0. 0. 0.]\n",
      " [1. 1. 1. 1. 1. 1. 1. 1. 1. 1.]]\n",
      "[-0.43831248  0.86317071  0.49707097 -0.15412551 -0.26698278 -0.61924174\n",
      "  0.5302724   0.65172388 -0.02269906  0.01897426]\n",
      "3.987789154052734e-05 сек\n"
     ]
    }
   ],
   "source": [
    "import sys as ss\n",
    "from scipy import sparse\n",
    "from scipy import linalg\n",
    "import numpy as np\n",
    "\n",
    "start = time.time()\n",
    "\n",
    "for i in range(100):\n",
    "    N = 10 \n",
    "    m = 3\n",
    "    Ap, As, An, Aw, Ae = np.ones(N), np.ones(N), np.ones(N), np.ones(N), np.ones(N)\n",
    "    A = np.zeros((2 * m + 1, N))\n",
    "    A[0] = Ae\n",
    "    A[m - 1] = An\n",
    "    A[m] = Ap\n",
    "    A[m + 1] = As\n",
    "    A[2 * m] = Aw\n",
    "    b= np.random.rand(N)\n",
    "    x = linalg.solve_banded((m, m), A, b)\n",
    "\n",
    "end = time.time()\n",
    "\n",
    "t = (end - start)/(i+1)\n",
    "    \n",
    "print(A, x, sep = '\\n')\n",
    "print(t, 'сек')"
   ]
  },
  {
   "cell_type": "code",
   "execution_count": 5,
   "metadata": {
    "id": "qk7z0LV1TR6y"
   },
   "outputs": [
    {
     "name": "stdout",
     "output_type": "stream",
     "text": [
      "  (0, 0)\t1.0\n",
      "  (1, 1)\t1.0\n",
      "  (2, 2)\t1.0\n",
      "  (3, 3)\t1.0\n",
      "  (4, 4)\t1.0\n",
      "  (5, 5)\t1.0\n",
      "  (6, 6)\t1.0\n",
      "  (7, 7)\t1.0\n",
      "  (8, 8)\t1.0\n",
      "  (9, 9)\t1.0\n",
      "  (1, 0)\t1.0\n",
      "  (2, 1)\t1.0\n",
      "  (3, 2)\t1.0\n",
      "  (4, 3)\t1.0\n",
      "  (5, 4)\t1.0\n",
      "  (6, 5)\t1.0\n",
      "  (7, 6)\t1.0\n",
      "  (8, 7)\t1.0\n",
      "  (9, 8)\t1.0\n",
      "  (0, 1)\t1.0\n",
      "  (1, 2)\t1.0\n",
      "  (2, 3)\t1.0\n",
      "  (3, 4)\t1.0\n",
      "  (4, 5)\t1.0\n",
      "  (5, 6)\t1.0\n",
      "  (6, 7)\t1.0\n",
      "  (7, 8)\t1.0\n",
      "  (8, 9)\t1.0\n",
      "  (3, 0)\t1.0\n",
      "  (4, 1)\t1.0\n",
      "  (5, 2)\t1.0\n",
      "  (6, 3)\t1.0\n",
      "  (7, 4)\t1.0\n",
      "  (8, 5)\t1.0\n",
      "  (9, 6)\t1.0\n",
      "  (0, 3)\t1.0\n",
      "  (1, 4)\t1.0\n",
      "  (2, 5)\t1.0\n",
      "  (3, 6)\t1.0\n",
      "  (4, 7)\t1.0\n",
      "  (5, 8)\t1.0\n",
      "  (6, 9)\t1.0\n",
      "[-0.43831248  0.86317071  0.49707097 -0.15412551 -0.26698278 -0.61924174\n",
      "  0.5302724   0.65172388 -0.02269906  0.01897426]\n",
      "0.00030916929244995117 сек\n"
     ]
    },
    {
     "name": "stderr",
     "output_type": "stream",
     "text": [
      "C:\\My_place\\Anaconda\\lib\\site-packages\\scipy\\sparse\\linalg\\dsolve\\linsolve.py:144: SparseEfficiencyWarning: spsolve requires A be CSC or CSR matrix format\n",
      "  warn('spsolve requires A be CSC or CSR matrix format',\n"
     ]
    }
   ],
   "source": [
    "import sys as ss\n",
    "import scipy\n",
    "import time\n",
    "import numpy as np\n",
    "from scipy.sparse.linalg import spsolve\n",
    "\n",
    "start = time.time()\n",
    "\n",
    "for i in range(100):\n",
    "    N = 10\n",
    "    m = 3\n",
    "    Ap, As, An, Aw, Ae = np.ones(N), np.ones(N), np.ones(N), np.ones(N), np.ones(N)\n",
    "    diagonals = [Ap, As, An, Aw, Ae]\n",
    "    A = scipy.sparse.diags(diagonals, [0, -1, 1, -m, m])\n",
    "    x = spsolve(A,b)\n",
    "    \n",
    "end = time.time()\n",
    "\n",
    "t = (end - start)/(i+1)\n",
    "\n",
    "print(A, x, sep = '\\n')\n",
    "print(t, 'сек')"
   ]
  },
  {
   "cell_type": "markdown",
   "metadata": {
    "id": "sS3EHa1aKmJi"
   },
   "source": [
    "# Задача 2. Метод Якоби.\n"
   ]
  },
  {
   "cell_type": "markdown",
   "metadata": {
    "id": "scYTfKDO7lTJ"
   },
   "source": [
    "Реализуйте метод итераций для решения системы линейных уравнений (метод Якоби). Для этого перепишите уравнение $A x=b$, выделив диагональную часть матрицы $A$ :\n",
    "\n",
    "$$\n",
    "A=D+(A-D),\n",
    "$$\n",
    "\n",
    "в виде\n",
    "\n",
    "$$\n",
    "x_{n+1}=B x_n+c,\n",
    "$$\n",
    "\n",
    "где $B=D^{-1}(D-A)$. Найдите $c$.\n",
    "Создайте случайную матрицу с диагональным доминированием. \n",
    "\n"
   ]
  },
  {
   "cell_type": "code",
   "execution_count": 6,
   "metadata": {
    "id": "ZONatbD77wU7"
   },
   "outputs": [
    {
     "name": "stdout",
     "output_type": "stream",
     "text": [
      "\n",
      " [array([ 0.03919429,  0.03780037,  0.04283232,  0.02365951,  0.05745031,\n",
      "       -0.00030244, -0.00577279,  0.03177549, -0.00422849,  0.05284648]), array([-0.33196517, -0.23695466, -0.19637262, -0.18468356, -0.05177458,\n",
      "       -0.19235895, -0.05130398,  0.06373239,  0.01998253,  0.09645048]), array([0.07226371, 0.07381559, 0.08056384, 0.07494114, 0.07548926,\n",
      "       0.02226711, 0.02304095, 0.08160905, 0.04531461, 0.09645048]), array([ 0.02385628,  0.02583526,  0.0311645 ,  0.00931226,  0.04946435,\n",
      "       -0.01366703, -0.01408314,  0.02413284, -0.01710875,  0.04178232]), array([ 0.04341698,  0.0415518 ,  0.04642124,  0.02812286,  0.05969128,\n",
      "        0.00320912, -0.00354431,  0.03474427, -0.0004701 ,  0.05609904]), array([ 0.0379066 ,  0.03671123,  0.04176174,  0.02233288,  0.05676821,\n",
      "       -0.00137594, -0.00648168,  0.03093251, -0.00537301,  0.0518507 ]), array([ 3.95796021e-02,  3.81309650e-02,  4.31533689e-02,  2.40580869e-02,\n",
      "        5.76541283e-02,  1.95877145e-05, -5.56397837e-03,  3.20305207e-02,\n",
      "       -3.88623633e-03,  5.31430427e-02]), array([ 0.0390787 ,  0.03770151,  0.042736  ,  0.02354001,  0.05738913,\n",
      "       -0.00039892, -0.00583567,  0.03169905, -0.00433114,  0.0527574 ]), array([ 0.03922895,  0.03783003,  0.0428612 ,  0.02369535,  0.05746866,\n",
      "       -0.00027349, -0.00575395,  0.03179842, -0.0041977 ,  0.05287319]), array([ 0.03918389,  0.03779147,  0.04282366,  0.02364876,  0.05744481,\n",
      "       -0.00031112, -0.00577844,  0.03176862, -0.00423772,  0.05283847]), array([ 0.03919741,  0.03780303,  0.04283492,  0.02366273,  0.05745196,\n",
      "       -0.00029983, -0.0057711 ,  0.03177756, -0.00422572,  0.05284889]), array([ 0.03919335,  0.03779957,  0.04283154,  0.02365854,  0.05744982,\n",
      "       -0.00030322, -0.0057733 ,  0.03177488, -0.00422932,  0.05284576]), array([ 0.03919457,  0.03780061,  0.04283255,  0.0236598 ,  0.05745046,\n",
      "       -0.0003022 , -0.00577264,  0.03177568, -0.00422824,  0.0528467 ]), array([ 0.0391942 ,  0.03780029,  0.04283225,  0.02365942,  0.05745027,\n",
      "       -0.00030251, -0.00577284,  0.03177544, -0.00422856,  0.05284642]), array([ 0.03919431,  0.03780039,  0.04283234,  0.02365953,  0.05745033,\n",
      "       -0.00030242, -0.00577278,  0.03177551, -0.00422847,  0.0528465 ]), array([ 0.03919428,  0.03780036,  0.04283231,  0.0236595 ,  0.05745031,\n",
      "       -0.00030244, -0.0057728 ,  0.03177549, -0.0042285 ,  0.05284648]), array([ 0.03919429,  0.03780037,  0.04283232,  0.02365951,  0.05745032,\n",
      "       -0.00030244, -0.00577279,  0.0317755 , -0.00422849,  0.05284648]), array([ 0.03919429,  0.03780037,  0.04283232,  0.02365951,  0.05745031,\n",
      "       -0.00030244, -0.00577279,  0.03177549, -0.00422849,  0.05284648]), array([ 0.03919429,  0.03780037,  0.04283232,  0.02365951,  0.05745031,\n",
      "       -0.00030244, -0.00577279,  0.03177549, -0.00422849,  0.05284648]), array([ 0.03919429,  0.03780037,  0.04283232,  0.02365951,  0.05745031,\n",
      "       -0.00030244, -0.00577279,  0.03177549, -0.00422849,  0.05284648]), array([ 0.03919429,  0.03780037,  0.04283232,  0.02365951,  0.05745031,\n",
      "       -0.00030244, -0.00577279,  0.03177549, -0.00422849,  0.05284648]), array([ 0.03919429,  0.03780037,  0.04283232,  0.02365951,  0.05745031,\n",
      "       -0.00030244, -0.00577279,  0.03177549, -0.00422849,  0.05284648])]\n",
      "\n",
      " [ 0.03919429  0.03780037  0.04283232  0.02365951  0.05745031 -0.00030244\n",
      " -0.00577279  0.03177549 -0.00422849  0.05284648] \n",
      "\n"
     ]
    },
    {
     "data": {
      "text/plain": [
       "array([-1.08685283e-10, -9.48933154e-11, -8.98690011e-11, -1.12018061e-10,\n",
       "       -5.90474336e-11, -9.50522161e-11, -6.01029712e-11, -7.35057570e-11,\n",
       "       -9.93435473e-11, -8.63804583e-11])"
      ]
     },
     "execution_count": 6,
     "metadata": {},
     "output_type": "execute_result"
    }
   ],
   "source": [
    "import numpy as np\n",
    "from numpy import linalg as LA\n",
    "rnd = np.random. RandomState(1234)\n",
    "n=10\n",
    "D = np.diag([15]*n)\n",
    "A = rnd.uniform (size=(n,n))+D\n",
    "b = rnd.uniform (size=n)\n",
    "\n",
    "B = np.linalg.inv(D)*(D-A)\n",
    "x0 = np.ones(10)\n",
    "\n",
    "def Jacobi(A,b,x_0,n):\n",
    "    x=x0\n",
    "    y=x0\n",
    "    k=0\n",
    "    key_value=[x]\n",
    "    while(k<21):\n",
    "        for i in range(n):\n",
    "            sum_value=0\n",
    "            for j in range(n):\n",
    "                if j!=i:\n",
    "                    sum_value = sum_value + A[i][j]*x[j]\n",
    "            y[i]=(b[i] - sum_value)/A[i][i]\n",
    "\n",
    "        x=y.copy()\n",
    "        k=k+1\n",
    "        key_value.append(x)\n",
    "\n",
    "    return x,key_value\n",
    "\n",
    "ans = Jacobi(A,b,x0,10)[1]\n",
    "\n",
    "print('\\n', ans)\n",
    "\n",
    "answer = ans[21]\n",
    "print('\\n', answer, '\\n')\n",
    "\n",
    "\n",
    "A @ answer - b"
   ]
  },
  {
   "cell_type": "markdown",
   "metadata": {
    "id": "gk0Vecog7wpq"
   },
   "source": [
    "Вычислите норму соотвутствующей матрицы $B$ и выполните итерации Якоби. Убедитесь, что результирующий вектор $x$ действительно решает исходную систему.\n",
    "\n",
    "Матрица $A$, с которой вы работали выше, по построению доминируется диагональю. Что произойдёт, если уменьшать величину диагональных элементов? Проверьте сходимость итераций Якоби (вычислите также норму матрицы $B$ ). "
   ]
  },
  {
   "cell_type": "markdown",
   "metadata": {
    "id": "gpR6GBRtKmXq"
   },
   "source": [
    "# Задача 3. Метод вращений и QR-разложение."
   ]
  },
  {
   "cell_type": "markdown",
   "metadata": {
    "id": "IsnxYiIS9_qT"
   },
   "source": [
    "После первой стадии метода вращений Гивенса система имеет вид "
   ]
  },
  {
   "cell_type": "markdown",
   "metadata": {
    "id": "o38hlqPO9g7r"
   },
   "source": [
    "\\begin{aligned}\n",
    "&a_{11}^{(n-1)} x_1+a_{12}^{(n-1)} x_2+a_{13}^{(n-1)} x_3+\\ldots+a_{1 n}^{(n-1)} x_n=b_1^{(n-1)}\\\\\n",
    "&a_{22}^{(1)} x_2+a_{23}^{(1)} x_3+\\ldots+a_{2 n}^{(1)} x_n=b_2^{(1)} \\text {, }\\\\\n",
    "\\ldots\\\\\n",
    "&a_{n 2}^{(1)} x_2+a_{n 3}^{(1)} x_3+\\ldots+a_{n n}^{(1)} x_n=b_n^{(1)} .\n",
    "\\end{aligned} "
   ]
  },
  {
   "cell_type": "markdown",
   "metadata": {
    "id": "qq33P4d7-DjQ"
   },
   "source": [
    "Доказать следующие формулы: \n",
    "$$\n",
    "\\begin{aligned}\n",
    "&a_{1 j}^{(l-1)}=c_{1 l} a_{1 j}^{(l-2)}+s_{1 l} a_{l j}, \\quad a_{l j}^{(1)}=-s_{1 l} a_{1 j}^{(l-2)}+c_{1 l} a_{l j}, \\quad a_{1 j}^{(0)}=a_{1 j},\\\\\n",
    "&\\begin{aligned}\n",
    "& j=1,2, \\ldots, n, \\\\\n",
    "b_1^{(l-1)}=c_{1 l} b_1^{(l-2)}+s_{1 l} b_l, \\quad \\quad b_l^{(1)}=&-s_{1 l} b_1^{(l-2)}+c_{1 l} b_l, \\\\\n",
    "l=2,3, \\ldots, n,\n",
    "\\end{aligned}\\\\\n",
    "&c_{1 l}=\\frac{a_{11}^{(l-2)}}{\\sqrt{\\left(a_{11}^{(l-2)}\\right)^2+a_{l 1}^2}}, \\quad s_{1 l}=\\frac{a_{l 1}}{\\sqrt{\\left(a_{11}^{(l-2)}\\right)^2+a_{l 1}^2}},\n",
    "\\\\\n",
    "& l=2,3, \\ldots, n,\\\\\n",
    "\\end{aligned}\n",
    "$$"
   ]
  },
  {
   "cell_type": "markdown",
   "metadata": {
    "id": "kPjp8qP0-4Cp"
   },
   "source": [
    "После второй стадии метода вращения Гивенса система уравнений имеет вид:\n",
    "\n",
    "\\begin{aligned}\n",
    "&a_{11}^{(n-1)} x_1+a_{12}^{(n-1)} x_2+a_{13}^{(n-1)} x_3+\\ldots+a_{1 n}^{(n-1)} x_n=b_1^{(n-1)}\\\\\n",
    "&a_{22}^{(n-1)} x_2+a_{23}^{(n-1)} x_3+\\ldots+a_{2 n}^{(n-1)} x_n=b_2^{(n-1)} \\text {, }\\\\\n",
    "&a_{33}^{(2)} x_3+\\ldots+a_{3 n}^{(2)} x_n=b_3^{(2)} \\text {, }\\\\\n",
    "\\ldots \\\\\n",
    "&a_{n 3}^{(2)} x_3+\\ldots+a_{n n}^{(2)} x_n=b_n^{(2)}\n",
    "\\end{aligned}  "
   ]
  },
  {
   "cell_type": "markdown",
   "metadata": {
    "id": "lJxuwUP-_KRZ"
   },
   "source": [
    "Доказать следующие формулы \n",
    "$$\n",
    "\\begin{aligned}\n",
    "&a_{2 j}^{(l-1)}=c_{2 l} a_{2 j}^{(l-2)}+s_{2 l} a_{l j}^{(1)}, \\quad a_{l j}^{(2)}=-s_{2 l} a_{2 j}^{(l-2)}+c_{2 l} a_{l j}^{(1)} \\text {, }\\\\\n",
    "&j=2,3, \\ldots, n\\\\\n",
    "&\\begin{aligned}\n",
    "b_2^{(l-1)}=c_{2 l} b_2^{(l-2)}+s_{2 l} b_l^{(1)}, \\quad \\quad b_l^{(2)}=&-s_{2 l} b_2^{(l-2)}+c_{2 l} b_l^{(1)}, \\\\\n",
    "& l=3,4, \\ldots, n,\n",
    "\\end{aligned}\\\\\n",
    "&c_{2 l}=\\frac{a_{22}^{(l-2)}}{\\sqrt{\\left(a_{22}^{(l-2)}\\right)^2+\\left(a_{l 2}^{(1)}\\right)^2}}, \\quad s_{2 l}=\\frac{a_{l 2}^{(1)}}{\\sqrt{\\left(a_{22}^{(l-2)}\\right)^2+\\left(a_{l 2}^{(1)}\\right)^2}}\n",
    "\\end{aligned}  \n",
    "$$"
   ]
  },
  {
   "cell_type": "markdown",
   "metadata": {
    "id": "FdEaBjGZ_b0i"
   },
   "source": [
    "После (n-1) шагов метода Гивенса получаем систему:\n",
    "\n",
    "\\begin{aligned}\n",
    "&a_{11}^{(n-1)} x_1+a_{12}^{(n-1)} x_2+a_{13}^{(n-1)} x_3+\\ldots+a_{1 n}^{(n-1)} x_n=b_1^{(n-1)},\\\\\n",
    "&a_{22}^{(n-1)} x_2+a_{23}^{(n-1)} x_3+\\ldots+a_{2 n}^{(n-1)} x_n=b_2^{(n-1)} \\text {, }\\\\\n",
    "\\ldots \\\\\n",
    "&a_{n n}^{(n-1)} x_n=b_n^{(n-1)} \\text {, }\n",
    "\\end{aligned}  \n",
    "\n",
    "\n"
   ]
  },
  {
   "cell_type": "markdown",
   "metadata": {
    "id": "sU1UOEWM_rOh"
   },
   "source": [
    "Где\n",
    "\n",
    "\\begin{aligned}\n",
    "&a_{k j}^{(l-1)}=c_{k l} a_{k j}^{(l-2)}+s_{k l} a_{l j}^{(k-1)}, \\quad a_{l j}^{(k)}=-s_{k l} a_{k j}^{(l-2)}+c_{k l} a_{l j}^{(k-1)}\\\\\n",
    "&j=k, k+1, \\ldots, n,\\\\\n",
    "&b_k^{(l-1)}=c_{k l} b_k^{(l-2)}+s_{k l} b_l^{(k-1)}, \\quad b_l^{(k)}=-s_{k l} b_k^{(l-2)}+c_{k l} b_l^{(k-1)} \\text {, }\\\\\n",
    "&k=1, \\ldots, n, \\quad l=k+1, \\ldots, n\n",
    "\\end{aligned} \n",
    "\n",
    "а  \n",
    "$$\n",
    "c_{k l}=\\frac{a_{k k}^{(l-2)}}{\\sqrt{\\left(a_{k k}^{(l-2)}\\right)^2+\\left(a_{l k}^{(k-1)}\\right)^2}}, \\quad s_{k l}=\\frac{a_{l k}^{(k-1)}}{\\sqrt{\\left(a_{k k}^{(l-2)}\\right)^2+\\left(a_{l k}^{(k-1)}\\right)^2}}\n",
    "$$ "
   ]
  },
  {
   "cell_type": "markdown",
   "metadata": {
    "id": "xZE7dz2wZGzd"
   },
   "source": [
    "Доказать, что метод Гивенса реализует QR-разложение матрицы.\n",
    "\n"
   ]
  },
  {
   "cell_type": "markdown",
   "metadata": {
    "id": "-4to-6uKAKdh"
   },
   "source": [
    "$$\n",
    "A=Q R,\n",
    "$$\n",
    "где $Q$ - ортогональная матрица, а $R-$ верхняя треугольная с положительными элементами на главной диагонали."
   ]
  },
  {
   "cell_type": "markdown",
   "metadata": {
    "id": "8-476ZEtKmk5"
   },
   "source": [
    "# Задача 4. Асимпотика метода Гивенса."
   ]
  },
  {
   "cell_type": "markdown",
   "metadata": {
    "id": "xzG3RPf-T07c"
   },
   "source": [
    "Покажите, что при больших n метод Гивенса требует\n",
    "$$\n",
    "\\approx 4 n^3 / 3\n",
    "$$\n",
    "  действий умножения.  Докажите, что метод Гаусса требует примерно в 4 раза меньше.  \n",
    "\n",
    "Примените и тот, и другой метод для решения систем уравнений, используя библиотечные функции, и продемонстрируйте эту разницу измерением времени работы.\n",
    "\n",
    ".\n"
   ]
  },
  {
   "cell_type": "code",
   "execution_count": 15,
   "metadata": {},
   "outputs": [
    {
     "name": "stdout",
     "output_type": "stream",
     "text": [
      "Гивенс:  5.212696552276611 \n",
      "\n",
      "Гаусс:  2.6157522201538086 \n",
      "\n"
     ]
    }
   ],
   "source": [
    "import numpy as np\n",
    "import time\n",
    "import scipy.linalg as LA\n",
    "\n",
    "rnd = np.random. RandomState (1234)\n",
    "n=4000\n",
    "A= rnd.uniform (size=(n,n))\n",
    "b= rnd.uniform (size=n)\n",
    "\n",
    "\n",
    "def Gauss(A, b):\n",
    "    L, U = LA.lu(A, permute_l = True)\n",
    "    x = np.linalg.solve(U, np.linalg.inv(L) @ b)\n",
    "    return x\n",
    "\n",
    "def Givence(A, b):\n",
    "    Q, R = LA.qr(A)\n",
    "    x = np.linalg.inv(R) @ Q.T @ b\n",
    "    return x\n",
    "\n",
    "start = time.time()\n",
    "x1 = givence(A, b)\n",
    "end = time.time()\n",
    "\n",
    "t = (end - start)\n",
    "\n",
    "print('Гивенс: ', t, '\\n')\n",
    "\n",
    "start = time.time()\n",
    "x2 = gauss(A, b)\n",
    "end = time.time()\n",
    "\n",
    "t = (end - start)\n",
    "print('Гаусс: ', t, '\\n')"
   ]
  },
  {
   "cell_type": "markdown",
   "metadata": {
    "id": "s8jGlqhJKmpB"
   },
   "source": [
    "# Задача 5. Уравнение Пуассона методом Зейделя."
   ]
  },
  {
   "cell_type": "code",
   "execution_count": 20,
   "metadata": {
    "id": "seY8JppiCsGL"
   },
   "outputs": [],
   "source": [
    "import numpy as np\n",
    "from scipy.linalg import block_diag"
   ]
  },
  {
   "cell_type": "markdown",
   "metadata": {
    "id": "XOsayBHhCt7S"
   },
   "source": [
    "Рассмотрим систему линейных уравнений, матрица правой части которой является \"ленточной\" и имеет следующую структуру: ненулевые элементы расположены на трех центральных диагонялях и на двух \"крыльях\". Матрицы такой структуры возникают, например, при решении задачи на нахождение электростатического потенциала $\\phi(x, y)$, создаваемого двумерным распределением заряда $\\rho(x, y)$ при дискретизации на сетке уравнения Пуассона\n",
    "\n",
    "$$\n",
    "\\Delta \\phi=-4 \\pi \\rho .\n",
    "$$\n",
    "\n",
    "(детали см. напр. А.А. Самарский, А.В. Гулин, Численные методы, Ч. 3 гл. 1, параграф 1).\n",
    "Размер матрицы растет с уменьшением шага сетки $h$ как $O\\left(1 / h^2\\right)$. Таким образом, приходится иметь дело с разреженными матрицами огромного размера.\n",
    "Матрицу m создадим следующим образом:"
   ]
  },
  {
   "cell_type": "code",
   "execution_count": 21,
   "metadata": {
    "id": "Ds0r91mgC3-C"
   },
   "outputs": [],
   "source": [
    "n = 5\n",
    "\n",
    "# Диагональный блок\n",
    "a = np.zeros((n-1, n-1))\n",
    "\n",
    "idx = np.arange(n-1)\n",
    "\n",
    "a[idx, idx] = -4\n",
    "a[idx[:-1], idx[:-1]+1] = 1\n",
    "a[idx[1:], idx[1:]-1] = 1\n",
    "\n",
    "# собираем блочно-диагональную `m`\n",
    "m = block_diag(a, a, a, a, a)\n",
    "\n",
    "# заполняем \"крылья\"\n",
    "idx = np.arange(m.shape[0])\n",
    "\n",
    "m[idx[:-n+1], idx[:-n+1] + n-1] = 1\n",
    "m[idx[n-1:], idx[n-1:] - n+1] = 1"
   ]
  },
  {
   "cell_type": "code",
   "execution_count": 22,
   "metadata": {
    "colab": {
     "base_uri": "https://localhost:8080/"
    },
    "id": "D98xMZXKDBio",
    "outputId": "756b3b86-328e-4fde-cf7b-f13fa19b3379"
   },
   "outputs": [
    {
     "name": "stdout",
     "output_type": "stream",
     "text": [
      "[[-4.  1.  0.  0.  1.  0.  0.  0.  0.  0.  0.  0.  0.  0.  0.  0.  0.  0.  0.  0.]\n",
      " [ 1. -4.  1.  0.  0.  1.  0.  0.  0.  0.  0.  0.  0.  0.  0.  0.  0.  0.  0.  0.]\n",
      " [ 0.  1. -4.  1.  0.  0.  1.  0.  0.  0.  0.  0.  0.  0.  0.  0.  0.  0.  0.  0.]\n",
      " [ 0.  0.  1. -4.  0.  0.  0.  1.  0.  0.  0.  0.  0.  0.  0.  0.  0.  0.  0.  0.]\n",
      " [ 1.  0.  0.  0. -4.  1.  0.  0.  1.  0.  0.  0.  0.  0.  0.  0.  0.  0.  0.  0.]\n",
      " [ 0.  1.  0.  0.  1. -4.  1.  0.  0.  1.  0.  0.  0.  0.  0.  0.  0.  0.  0.  0.]\n",
      " [ 0.  0.  1.  0.  0.  1. -4.  1.  0.  0.  1.  0.  0.  0.  0.  0.  0.  0.  0.  0.]\n",
      " [ 0.  0.  0.  1.  0.  0.  1. -4.  0.  0.  0.  1.  0.  0.  0.  0.  0.  0.  0.  0.]\n",
      " [ 0.  0.  0.  0.  1.  0.  0.  0. -4.  1.  0.  0.  1.  0.  0.  0.  0.  0.  0.  0.]\n",
      " [ 0.  0.  0.  0.  0.  1.  0.  0.  1. -4.  1.  0.  0.  1.  0.  0.  0.  0.  0.  0.]\n",
      " [ 0.  0.  0.  0.  0.  0.  1.  0.  0.  1. -4.  1.  0.  0.  1.  0.  0.  0.  0.  0.]\n",
      " [ 0.  0.  0.  0.  0.  0.  0.  1.  0.  0.  1. -4.  0.  0.  0.  1.  0.  0.  0.  0.]\n",
      " [ 0.  0.  0.  0.  0.  0.  0.  0.  1.  0.  0.  0. -4.  1.  0.  0.  1.  0.  0.  0.]\n",
      " [ 0.  0.  0.  0.  0.  0.  0.  0.  0.  1.  0.  0.  1. -4.  1.  0.  0.  1.  0.  0.]\n",
      " [ 0.  0.  0.  0.  0.  0.  0.  0.  0.  0.  1.  0.  0.  1. -4.  1.  0.  0.  1.  0.]\n",
      " [ 0.  0.  0.  0.  0.  0.  0.  0.  0.  0.  0.  1.  0.  0.  1. -4.  0.  0.  0.  1.]\n",
      " [ 0.  0.  0.  0.  0.  0.  0.  0.  0.  0.  0.  0.  1.  0.  0.  0. -4.  1.  0.  0.]\n",
      " [ 0.  0.  0.  0.  0.  0.  0.  0.  0.  0.  0.  0.  0.  1.  0.  0.  1. -4.  1.  0.]\n",
      " [ 0.  0.  0.  0.  0.  0.  0.  0.  0.  0.  0.  0.  0.  0.  1.  0.  0.  1. -4.  1.]\n",
      " [ 0.  0.  0.  0.  0.  0.  0.  0.  0.  0.  0.  0.  0.  0.  0.  1.  0.  0.  1. -4.]]\n"
     ]
    }
   ],
   "source": [
    "with np.printoptions(linewidth=99):\n",
    "    print(m)"
   ]
  },
  {
   "cell_type": "code",
   "execution_count": 23,
   "metadata": {
    "colab": {
     "base_uri": "https://localhost:8080/",
     "height": 292
    },
    "id": "EgRdH0oTDHBZ",
    "outputId": "b007ac0e-a833-47ff-9230-b17c60d1c662"
   },
   "outputs": [
    {
     "data": {
      "text/plain": [
       "<matplotlib.image.AxesImage at 0x21714454460>"
      ]
     },
     "execution_count": 23,
     "metadata": {},
     "output_type": "execute_result"
    },
    {
     "data": {
      "image/png": "[encoded data removed]",
      "text/plain": [
       "<Figure size 288x288 with 1 Axes>"
      ]
     },
     "metadata": {
      "needs_background": "light"
     },
     "output_type": "display_data"
    }
   ],
   "source": [
    "import matplotlib.pyplot as plt\n",
    "plt.matshow(m)"
   ]
  },
  {
   "cell_type": "markdown",
   "metadata": {
    "id": "bPYSMkIgC6Kh"
   },
   "source": [
    "Зададим вектор правой части системы "
   ]
  },
  {
   "cell_type": "code",
   "execution_count": 24,
   "metadata": {
    "id": "gYO494gmDKiR"
   },
   "outputs": [],
   "source": [
    "b = np.zeros(m.shape[0])\n",
    "b[m.shape[0]//2] = -1"
   ]
  },
  {
   "cell_type": "markdown",
   "metadata": {
    "id": "78HFJ2cTDM6K"
   },
   "source": [
    "Составить функцию, вычисляющую решение системы уравнений $m x=b$ методом Зейделя с заданной точностью $\\epsilon$. Прокоментировать зависимость числа итераций, требуемых для достижения заданной точности, от $\\epsilon$. "
   ]
  },
  {
   "cell_type": "code",
   "execution_count": 29,
   "metadata": {},
   "outputs": [
    {
     "name": "stdout",
     "output_type": "stream",
     "text": [
      "Решение: \n",
      " [0.02581072 0.05105345 0.06529589 0.03878406 0.05244542 0.11339011\n",
      " 0.17154987 0.08991809 0.07088819 0.17883539 0.41781839 0.14941364\n",
      " 0.05253826 0.11351592 0.17165523 0.08997263 0.02591961 0.05120101\n",
      " 0.06541948 0.03884803]\n",
      "Итераций:  19\n",
      "Время:  0.0009958744049072266\n"
     ]
    }
   ],
   "source": [
    "import time\n",
    "def zeidel(m, b, eps):\n",
    "    start = time.time()\n",
    "    x = np.zeros(len(m))\n",
    "    iter = 1\n",
    "\n",
    "    D = np.diag(m.diagonal())\n",
    "    L = np.tril(m)-D\n",
    "    U = np.triu(m)-D\n",
    "\n",
    "    while(np.linalg.norm(m @ x - b) > eps):\n",
    "        x = -np.linalg.inv(L + D) @ U @ x  + np.linalg.inv(L + D) @ b\n",
    "        iter += 1\n",
    "    end = time.time()\n",
    "    t = end - start\n",
    "    return x, iter, t\n",
    "\n",
    "\n",
    "x, iter, t = zeidel(m, b, 0.001)\n",
    "\n",
    "print('Решение: \\n', x)\n",
    "print('Итераций: ', iter)\n",
    "print('Время: ', t)"
   ]
  },
  {
   "cell_type": "markdown",
   "metadata": {
    "id": "634QUTkyKnWR"
   },
   "source": [
    "# Задача 6. FAST PYTHON."
   ]
  },
  {
   "cell_type": "markdown",
   "metadata": {
    "id": "TLumOjz5EBcp"
   },
   "source": [
    "Изучите документ FastPython.ipynb .\n",
    "Используя Numba, сделайте ускорение циклов в методе Зейделя в задаче 5.  Сравните время работы ускоренной и неускоренной программ. "
   ]
  }
 ],
 "metadata": {
  "colab": {
   "collapsed_sections": [
    "MeXTSdSfKdL2",
    "sS3EHa1aKmJi",
    "gpR6GBRtKmXq",
    "8-476ZEtKmk5",
    "s8jGlqhJKmpB",
    "634QUTkyKnWR"
   ],
   "provenance": [],
   "toc_visible": true
  },
  "kernelspec": {
   "display_name": "Python 3 (ipykernel)",
   "language": "python",
   "name": "python3"
  },
  "language_info": {
   "codemirror_mode": {
    "name": "ipython",
    "version": 3
   },
   "file_extension": ".py",
   "mimetype": "text/x-python",
   "name": "python",
   "nbconvert_exporter": "python",
   "pygments_lexer": "ipython3",
   "version": "3.9.7"
  }
 },
 "nbformat": 4,
 "nbformat_minor": 1
}
